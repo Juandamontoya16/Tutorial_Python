{
 "cells": [
  {
   "cell_type": "markdown",
   "metadata": {},
   "source": [
    "# Tutorial de Python"
   ]
  },
  {
   "cell_type": "markdown",
   "metadata": {},
   "source": [
    "### Este es un notebook que demuestra como usar los elementos basicos de Python."
   ]
  },
  {
   "cell_type": "markdown",
   "metadata": {},
   "source": [
    "### ¿Que es Python?"
   ]
  },
  {
   "cell_type": "markdown",
   "metadata": {},
   "source": [
    "Python es un lenguaje de programación interpretado y de alto nivel. Es ampliamente utilizado en ciencia de datos, desarrollo web, automatización y más. Se caracteriza por su sintaxis clara y sencilla, lo que lo hace ideal para principiantes."
   ]
  },
  {
   "cell_type": "code",
   "execution_count": 1,
   "metadata": {},
   "outputs": [
    {
     "data": {
      "text/plain": [
       "'¡Bienvenido al tutorial de Python!'"
      ]
     },
     "metadata": {},
     "output_type": "display_data"
    }
   ],
   "source": [
    "display(\"¡Bienvenido al tutorial de Python!\")"
   ]
  },
  {
   "cell_type": "markdown",
   "metadata": {},
   "source": [
    "# Variables y Tipos de Variables #"
   ]
  },
  {
   "cell_type": "markdown",
   "metadata": {},
   "source": [
    "##### En Python, las variables almacenan valores y no requieren declaración de tipo. Se puede reasignar a valores de diferentes tipos sin restricciones. #####"
   ]
  },
  {
   "cell_type": "code",
   "execution_count": null,
   "metadata": {},
   "outputs": [],
   "source": [
    "# Tener en cuenta para nombrar las variables \n",
    "\n",
    "# -El nombre de la variable debe comenzar con una letra o guión bajo (_). No pueden comenzar con números o caracteres especiales.\n",
    "\n",
    "nombre = \"Juan\"  # Correcto\n",
    "_variable = 10  # Correcto\n",
    "2edad = 25  # Incorrecto (no puede empezar con números)\n",
    "\n",
    "# -Solo pueden contener letras, números y guiones bajos (_), pero no espacios ni caracteres especiales.\n",
    "\n",
    "variable_1 = 50  # Correcto\n",
    "edad-promedio = # Incorrecto (guión no permitido).\n",
    "mi variable = 10 #  Incorrecto (espacios no permitidos)"
   ]
  },
  {
   "cell_type": "markdown",
   "metadata": {},
   "source": [
    "### Tipos de datos básicos en Python ###"
   ]
  },
  {
   "cell_type": "code",
   "execution_count": null,
   "metadata": {},
   "outputs": [],
   "source": [
    "# Para mostrar el tipo de dato se usa el comando:\n",
    "type()\n",
    "\n",
    "# Para ver los resultados de varias operaciones en pantalla se usa el comando:\n",
    "print()"
   ]
  },
  {
   "cell_type": "code",
   "execution_count": 2,
   "metadata": {},
   "outputs": [
    {
     "name": "stdout",
     "output_type": "stream",
     "text": [
      "Entero 10 -Tipo <class 'int'>\n"
     ]
    }
   ],
   "source": [
    "# 1. Enteros (int): Números sin decimales.\n",
    "x = 10 # Ejemplo de entero\n",
    "print(\"Entero\", x, \"-Tipo\", type(x))"
   ]
  },
  {
   "cell_type": "code",
   "execution_count": 3,
   "metadata": {},
   "outputs": [
    {
     "name": "stdout",
     "output_type": "stream",
     "text": [
      "Flotante 3.14 -Tipo <class 'float'>\n"
     ]
    }
   ],
   "source": [
    "# 2. Flotantes (float): Números con decimales.\n",
    "y = 3.14 #Ejemplo de flotante\n",
    "print(\"Flotante\", y, \"-Tipo\", type(y))"
   ]
  },
  {
   "cell_type": "code",
   "execution_count": 4,
   "metadata": {},
   "outputs": [
    {
     "name": "stdout",
     "output_type": "stream",
     "text": [
      "Cadena Hola, Python -Tipo <class 'str'>\n"
     ]
    }
   ],
   "source": [
    "# 3. Cadenas de texto (str): Secuencia de caracteres.\n",
    "texto = \"Hola, Python\" #Ejemplo de cadena\n",
    "print(\"Cadena\", texto, \"-Tipo\", type(texto))"
   ]
  },
  {
   "cell_type": "code",
   "execution_count": 5,
   "metadata": {},
   "outputs": [
    {
     "name": "stdout",
     "output_type": "stream",
     "text": [
      "Booleano True -Tipo <class 'bool'>\n"
     ]
    }
   ],
   "source": [
    "# 4. Booleanos (bool): Representan valores de verdad (True o False).\n",
    "booleano = True #Ejemplo de Booleano\n",
    "print(\"Booleano\", booleano, \"-Tipo\", type(booleano))"
   ]
  },
  {
   "cell_type": "markdown",
   "metadata": {},
   "source": [
    "# Conversion de datos"
   ]
  },
  {
   "cell_type": "markdown",
   "metadata": {},
   "source": [
    "### Python permite convertir entre distintos tipos de datos utilizando funciones específicas."
   ]
  },
  {
   "cell_type": "code",
   "execution_count": 6,
   "metadata": {},
   "outputs": [
    {
     "name": "stdout",
     "output_type": "stream",
     "text": [
      "Conversión de entero a flotante: 10.0\n",
      "Conversión de cadena a entero: 123\n"
     ]
    }
   ],
   "source": [
    "# Conversión de Datos\n",
    "numero_entero = 10\n",
    "numero_flotante = float(numero_entero)  # Convertir entero a flotante\n",
    "print(\"Conversión de entero a flotante:\", numero_flotante)\n",
    "\n",
    "cadena_numero = \"123\"\n",
    "numero_convertido = int(cadena_numero)  # Convertir cadena a entero\n",
    "print(\"Conversión de cadena a entero:\", numero_convertido)"
   ]
  },
  {
   "cell_type": "markdown",
   "metadata": {},
   "source": [
    "# Estructuras de Datos #"
   ]
  },
  {
   "cell_type": "markdown",
   "metadata": {},
   "source": [
    "## Listas\n",
    "### Estructuras ordenadas y mutables de elementos."
   ]
  },
  {
   "cell_type": "code",
   "execution_count": null,
   "metadata": {},
   "outputs": [],
   "source": [
    "lista = [1, 2, 3, 4, 5] #Ejemplo de lista\n",
    "print(\"Lista\", lista, \"-Tipo\", type(lista))"
   ]
  },
  {
   "cell_type": "code",
   "execution_count": null,
   "metadata": {},
   "outputs": [],
   "source": [
    "# Modificación de Listas\n",
    "lista.append(6) # Agregar un elemento final\n",
    "lista.insert(2, 99) # Insertar 99 en la posición 2\n",
    "print(\"Lista después de modificaciones\", lista)"
   ]
  },
  {
   "cell_type": "code",
   "execution_count": null,
   "metadata": {},
   "outputs": [],
   "source": [
    "lista[0] = 100 # Modificar un valor en la lista \n",
    "lista.pop() # Eliminar el último elemento\n",
    "lista.remove(99) # Eliminar un elemento en específico\n",
    "print(\"Lista después de modificaciones\", lista)"
   ]
  },
  {
   "cell_type": "markdown",
   "metadata": {},
   "source": [
    "## Tuplas\n",
    "### Similares a las listas, pero inmutables."
   ]
  },
  {
   "cell_type": "code",
   "execution_count": 7,
   "metadata": {},
   "outputs": [
    {
     "name": "stdout",
     "output_type": "stream",
     "text": [
      "Tupla (10, 20, 30) -Tipo <class 'tuple'>\n"
     ]
    }
   ],
   "source": [
    "tupla = (10, 20, 30) # Ejemplo de tupla\n",
    "print(\"Tupla\", tupla, \"-Tipo\", type(tupla))"
   ]
  },
  {
   "cell_type": "markdown",
   "metadata": {},
   "source": [
    "## Conjuntos\n",
    "### Colecciones desordenadas de elementos únicos."
   ]
  },
  {
   "cell_type": "code",
   "execution_count": 8,
   "metadata": {},
   "outputs": [
    {
     "name": "stdout",
     "output_type": "stream",
     "text": [
      "Conjunto: {1, 2, 3, 4, 5}\n"
     ]
    }
   ],
   "source": [
    "conjunto = {1, 2, 3, 4, 5}\n",
    "print(\"Conjunto:\", conjunto)"
   ]
  },
  {
   "cell_type": "code",
   "execution_count": 9,
   "metadata": {},
   "outputs": [
    {
     "name": "stdout",
     "output_type": "stream",
     "text": [
      "Conjunto después de modificaciones: {1, 2, 4, 5, 6}\n"
     ]
    }
   ],
   "source": [
    "conjunto.add(6) # Agregar un elemento\n",
    "conjunto.remove(3) # Eliminar un elemento\n",
    "print(\"Conjunto después de modificaciones:\", conjunto)"
   ]
  },
  {
   "cell_type": "markdown",
   "metadata": {},
   "source": [
    "## Diccionario\n",
    "### Colecciones de pares clave-valor."
   ]
  },
  {
   "cell_type": "code",
   "execution_count": 10,
   "metadata": {},
   "outputs": [
    {
     "name": "stdout",
     "output_type": "stream",
     "text": [
      "Diccionario: {'nombre': 'Juan', 'edad': 20}\n"
     ]
    }
   ],
   "source": [
    "diccionario = {\"nombre\": \"Juan\", \"edad\": 20}\n",
    "print(\"Diccionario:\", diccionario)"
   ]
  },
  {
   "cell_type": "code",
   "execution_count": 11,
   "metadata": {},
   "outputs": [
    {
     "name": "stdout",
     "output_type": "stream",
     "text": [
      "Diccionario después de modificaciones: {'edad': 26, 'ciudad': 'Madrid'}\n"
     ]
    }
   ],
   "source": [
    "diccionario[\"ciudad\"] = \"Madrid\"  # Agregar un nuevo par clave-valor\n",
    "diccionario[\"edad\"] = 26  # Modificar un valor\n",
    "del diccionario[\"nombre\"]  # Eliminar un par clave-valor\n",
    "print(\"Diccionario después de modificaciones:\", diccionario)"
   ]
  }
 ],
 "metadata": {
  "kernelspec": {
   "display_name": "Python 3",
   "language": "python",
   "name": "python3"
  },
  "language_info": {
   "codemirror_mode": {
    "name": "ipython",
    "version": 3
   },
   "file_extension": ".py",
   "mimetype": "text/x-python",
   "name": "python",
   "nbconvert_exporter": "python",
   "pygments_lexer": "ipython3",
   "version": "3.13.2"
  }
 },
 "nbformat": 4,
 "nbformat_minor": 2
}
