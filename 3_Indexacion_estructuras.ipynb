{
 "cells": [
  {
   "cell_type": "markdown",
   "metadata": {},
   "source": [
    "# Indexación y manipulación de datos"
   ]
  },
  {
   "cell_type": "markdown",
   "metadata": {},
   "source": [
    "##### La indexación es un aspecto fundamental en las estructuras de datos en Python, ya que nos permite acceder a elementos específicos dentro de una colección utilizando índices (en listas y tuplas) o claves (en diccionarios). A continuación, se presentan ejemplos prácticos sobre cómo se aplica la indexación en distintas estructuras de datos."
   ]
  },
  {
   "cell_type": "markdown",
   "metadata": {},
   "source": [
    "### Indexación en Listas"
   ]
  },
  {
   "cell_type": "code",
   "execution_count": 3,
   "metadata": {},
   "outputs": [
    {
     "name": "stdout",
     "output_type": "stream",
     "text": [
      "Primer elemento de la lista: 10\n",
      "Último elemento de la lista: 50\n",
      "Sublista de la lista: [20, 30, 40]\n"
     ]
    }
   ],
   "source": [
    "lista_ejemplo = [10, 20, 30, 40, 50]\n",
    "print(\"Primer elemento de la lista:\", lista_ejemplo[0])\n",
    "print(\"Último elemento de la lista:\", lista_ejemplo[-1])\n",
    "print(\"Sublista de la lista:\", lista_ejemplo[1:4])"
   ]
  },
  {
   "cell_type": "markdown",
   "metadata": {},
   "source": [
    "### Indexación en Tuplas"
   ]
  },
  {
   "cell_type": "code",
   "execution_count": 2,
   "metadata": {},
   "outputs": [
    {
     "name": "stdout",
     "output_type": "stream",
     "text": [
      "Elemento en índice 2: 3\n"
     ]
    }
   ],
   "source": [
    "tupla_ejemplo = (1, 2, 3, 4)\n",
    "print(\"Elemento en índice 2:\", tupla_ejemplo[2])"
   ]
  },
  {
   "cell_type": "markdown",
   "metadata": {},
   "source": [
    "* Las tuplas no se pueden modificar (Son inmutables)"
   ]
  },
  {
   "cell_type": "markdown",
   "metadata": {},
   "source": [
    "### Indexación en Dicionarios"
   ]
  },
  {
   "cell_type": "code",
   "execution_count": 1,
   "metadata": {},
   "outputs": [
    {
     "name": "stdout",
     "output_type": "stream",
     "text": [
      "Valor de 'edad' en el diccionario: 25\n",
      "Valor de 'altura' en el diccionario: No disponible\n"
     ]
    }
   ],
   "source": [
    "diccionario = {\"nombre\": \"Juan\", \"edad\": 25}\n",
    "print(\"Valor de 'edad' en el diccionario:\", diccionario.get(\"edad\"))  # Devuelve 25\n",
    "print(\"Valor de 'altura' en el diccionario:\", diccionario.get(\"altura\", \"No disponible\"))  # Devuelve \"No disponible\""
   ]
  }
 ],
 "metadata": {
  "kernelspec": {
   "display_name": "Python 3",
   "language": "python",
   "name": "python3"
  },
  "language_info": {
   "codemirror_mode": {
    "name": "ipython",
    "version": 3
   },
   "file_extension": ".py",
   "mimetype": "text/x-python",
   "name": "python",
   "nbconvert_exporter": "python",
   "pygments_lexer": "ipython3",
   "version": "3.13.2"
  }
 },
 "nbformat": 4,
 "nbformat_minor": 2
}
