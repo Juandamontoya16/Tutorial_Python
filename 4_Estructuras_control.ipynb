{
 "cells": [
  {
   "cell_type": "markdown",
   "metadata": {},
   "source": [
    "# Estructuras de Control"
   ]
  },
  {
   "cell_type": "markdown",
   "metadata": {},
   "source": [
    "#### Permiten modificar el flujo del programa con condiciones."
   ]
  },
  {
   "cell_type": "markdown",
   "metadata": {},
   "source": [
    "## Condicionales"
   ]
  },
  {
   "cell_type": "code",
   "execution_count": null,
   "metadata": {},
   "outputs": [],
   "source": [
    "if condición: \n",
    "    # Código que se ejecuta si la condición es verdadera\n",
    "elif otra condición:\n",
    "    # Código que se ejecuta si la primera condición es falsa, pero esta es verdadera\n",
    "else:\n",
    "    # Código que se ejecuta si ninguna de las condiciones anteriores se cumple"
   ]
  },
  {
   "cell_type": "code",
   "execution_count": 1,
   "metadata": {},
   "outputs": [
    {
     "name": "stdout",
     "output_type": "stream",
     "text": [
      "Eres mayor de edad.\n"
     ]
    }
   ],
   "source": [
    "edad = 18\n",
    "\n",
    "if edad >= 18:\n",
    "    print(\"Eres mayor de edad.\")\n",
    "elif edad >= 13:\n",
    "    print(\"Eres adolescente.\")\n",
    "else:\n",
    "    print(\"Eres menor de edad.\")"
   ]
  },
  {
   "cell_type": "markdown",
   "metadata": {},
   "source": [
    "## Bucles"
   ]
  },
  {
   "cell_type": "markdown",
   "metadata": {},
   "source": [
    "### Permiten repetir código múltiples veces."
   ]
  },
  {
   "cell_type": "markdown",
   "metadata": {},
   "source": [
    "#### Bucle for: Recorre una secuencia de elementos."
   ]
  },
  {
   "cell_type": "code",
   "execution_count": 4,
   "metadata": {},
   "outputs": [
    {
     "name": "stdout",
     "output_type": "stream",
     "text": [
      "Ciclo for con range:\n",
      "0\n",
      "1\n",
      "2\n",
      "3\n",
      "4\n",
      "Ciclo for con listas:\n",
      "Ana\n",
      "Juan\n",
      "Carlos\n"
     ]
    }
   ],
   "source": [
    "print(\"Ciclo for con range:\")\n",
    "for i in range(5):  # range(5) genera los números 0 a 4\n",
    "    print(i)\n",
    "\n",
    "print(\"Ciclo for con listas:\")\n",
    "nombres = [\"Ana\", \"Juan\", \"Carlos\"]\n",
    "for nombre in nombres:\n",
    "    print(nombre)"
   ]
  },
  {
   "cell_type": "markdown",
   "metadata": {},
   "source": [
    "#### Bucle while: Se ejecuta mientras la condición sea verdadera."
   ]
  },
  {
   "cell_type": "code",
   "execution_count": 3,
   "metadata": {},
   "outputs": [
    {
     "name": "stdout",
     "output_type": "stream",
     "text": [
      "Ciclo while:\n",
      "0\n",
      "1\n",
      "2\n",
      "3\n",
      "4\n"
     ]
    }
   ],
   "source": [
    "j = 0\n",
    "print(\"Ciclo while:\")\n",
    "while j < 5:\n",
    "    print(j)\n",
    "    j += 1  # Incremento necesario para evitar un bucle infinito"
   ]
  },
  {
   "cell_type": "markdown",
   "metadata": {},
   "source": [
    "#### Uso de break y continue en bucles"
   ]
  },
  {
   "cell_type": "code",
   "execution_count": 2,
   "metadata": {},
   "outputs": [
    {
     "name": "stdout",
     "output_type": "stream",
     "text": [
      "Uso de break:\n",
      "0\n",
      "1\n",
      "2\n",
      "3\n",
      "4\n",
      "Uso de continue:\n",
      "1\n",
      "3\n",
      "5\n",
      "7\n",
      "9\n"
     ]
    }
   ],
   "source": [
    "print(\"Uso de break:\")\n",
    "for num in range(10):\n",
    "    if num == 5:\n",
    "        break  # Sale del bucle cuando num es 5\n",
    "    print(num)\n",
    "\n",
    "print(\"Uso de continue:\")\n",
    "for num in range(10):\n",
    "    if num % 2 == 0:\n",
    "        continue  # Salta los números pares\n",
    "    print(num)"
   ]
  },
  {
   "cell_type": "markdown",
   "metadata": {},
   "source": [
    "## Manejo de excepciones"
   ]
  },
  {
   "cell_type": "markdown",
   "metadata": {},
   "source": [
    "#### En Python, una excepción es un error que ocurre durante la ejecución de un programa. El manejo de excepciones permite capturar y gestionar estos errores para evitar que el programa se detenga inesperadamente.\n"
   ]
  },
  {
   "cell_type": "markdown",
   "metadata": {},
   "source": [
    "### Explicación de `try`, `except` y `finally`:\n",
    " - `try`: Se coloca el código que puede generar una excepción.\n",
    " - `except`: Bloques donde se manejan los errores específicos.\n",
    " - `finally`: Código que siempre se ejecuta, haya o no una excepción."
   ]
  },
  {
   "cell_type": "code",
   "execution_count": 1,
   "metadata": {},
   "outputs": [
    {
     "name": "stdout",
     "output_type": "stream",
     "text": [
      "Resultado: 2.0\n",
      "Ejecución finalizada.\n"
     ]
    }
   ],
   "source": [
    "try:\n",
    "    numero = int(input(\"Ingrese un número: \"))\n",
    "    resultado = 10 / numero\n",
    "    print(\"Resultado:\", resultado)\n",
    "except ZeroDivisionError:\n",
    "    print(\"Error: No se puede dividir entre cero.\")\n",
    "except ValueError:\n",
    "    print(\"Error: Entrada no válida, ingrese un número.\")\n",
    "except Exception as e:\n",
    "    print(\"Ocurrió un error inesperado:\", e)\n",
    "finally:\n",
    "    print(\"Ejecución finalizada.\")"
   ]
  }
 ],
 "metadata": {
  "kernelspec": {
   "display_name": "Python 3",
   "language": "python",
   "name": "python3"
  },
  "language_info": {
   "codemirror_mode": {
    "name": "ipython",
    "version": 3
   },
   "file_extension": ".py",
   "mimetype": "text/x-python",
   "name": "python",
   "nbconvert_exporter": "python",
   "pygments_lexer": "ipython3",
   "version": "3.13.2"
  }
 },
 "nbformat": 4,
 "nbformat_minor": 2
}
