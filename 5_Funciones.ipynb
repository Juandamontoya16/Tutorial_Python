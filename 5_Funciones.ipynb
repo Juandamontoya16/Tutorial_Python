{
 "cells": [
  {
   "cell_type": "markdown",
   "metadata": {},
   "source": [
    "# Funciones"
   ]
  },
  {
   "cell_type": "markdown",
   "metadata": {},
   "source": [
    "### Las funciones permiten estructurar el código, reutilizarlo y hacerlo más legible."
   ]
  },
  {
   "cell_type": "markdown",
   "metadata": {},
   "source": [
    "## Función con múltiples parámetros"
   ]
  },
  {
   "cell_type": "markdown",
   "metadata": {},
   "source": [
    "#### Recibe dos valores y los multiplica."
   ]
  },
  {
   "cell_type": "code",
   "execution_count": 1,
   "metadata": {},
   "outputs": [
    {
     "name": "stdout",
     "output_type": "stream",
     "text": [
      "Multiplicación: 48\n"
     ]
    }
   ],
   "source": [
    "def multiplicar(x, y):\n",
    "    return x * y\n",
    "print(\"Multiplicación:\", multiplicar(6, 8))"
   ]
  },
  {
   "cell_type": "markdown",
   "metadata": {},
   "source": [
    "## Función con valor de retorno (return)"
   ]
  },
  {
   "cell_type": "markdown",
   "metadata": {},
   "source": [
    "#### Devuelve el cuadrado de un número."
   ]
  },
  {
   "cell_type": "code",
   "execution_count": 2,
   "metadata": {},
   "outputs": [
    {
     "name": "stdout",
     "output_type": "stream",
     "text": [
      "Cuadrado de 5: 25\n"
     ]
    }
   ],
   "source": [
    "def cuadrado(n):\n",
    "    return n ** 2\n",
    "print(\"Cuadrado de 5:\", cuadrado(5))"
   ]
  },
  {
   "cell_type": "markdown",
   "metadata": {},
   "source": [
    "## Parámetros con valores predeterminados"
   ]
  },
  {
   "cell_type": "markdown",
   "metadata": {},
   "source": [
    "#### Si no se proporciona un argumento, usa el valor por defecto."
   ]
  },
  {
   "cell_type": "code",
   "execution_count": 4,
   "metadata": {},
   "outputs": [
    {
     "name": "stdout",
     "output_type": "stream",
     "text": [
      "Adiós, Invitado!\n",
      "Adiós, Pedro!\n"
     ]
    }
   ],
   "source": [
    "def despedida(nombre=\"Invitado\"):\n",
    "    return f\"Adiós, {nombre}!\"\n",
    "print(despedida())\n",
    "print(despedida(\"Pedro\"))"
   ]
  },
  {
   "cell_type": "markdown",
   "metadata": {},
   "source": [
    "## Argumentos nombrados"
   ]
  },
  {
   "cell_type": "markdown",
   "metadata": {},
   "source": [
    "#### Permite pasar argumentos en cualquier orden al especificar el nombre del parámetro."
   ]
  },
  {
   "cell_type": "code",
   "execution_count": 3,
   "metadata": {},
   "outputs": [
    {
     "name": "stdout",
     "output_type": "stream",
     "text": [
      "Nombre: María, Edad: 40\n"
     ]
    }
   ],
   "source": [
    "def detalles_persona(nombre, edad):\n",
    "    return f\"Nombre: {nombre}, Edad: {edad}\"\n",
    "print(detalles_persona(edad=40, nombre=\"María\"))"
   ]
  },
  {
   "cell_type": "markdown",
   "metadata": {},
   "source": [
    "## Alcance de variables (Scope)"
   ]
  },
  {
   "cell_type": "markdown",
   "metadata": {},
   "source": [
    "* Variables locales solo existen dentro de la función.\n",
    "* Variables globales pueden ser accedidas en cualquier parte del código."
   ]
  },
  {
   "cell_type": "code",
   "execution_count": null,
   "metadata": {},
   "outputs": [],
   "source": [
    "contador = 5  # Variable global\n",
    "def incrementar():\n",
    "    global contador  # Permite modificar la variable global dentro de la función\n",
    "    contador += 1\n",
    "incrementar()\n",
    "print(\"Valor de contador:\", contador)"
   ]
  },
  {
   "cell_type": "markdown",
   "metadata": {},
   "source": [
    "## Funciones Lambda (Funciones anónimas)"
   ]
  },
  {
   "cell_type": "markdown",
   "metadata": {},
   "source": [
    "#### Son funciones pequeñas y rápidas."
   ]
  },
  {
   "cell_type": "code",
   "execution_count": null,
   "metadata": {},
   "outputs": [],
   "source": [
    "elevado_lambda = lambda x: x ** 3\n",
    "print(\"Cubo con lambda:\", elevado_lambda(4))"
   ]
  }
 ],
 "metadata": {
  "kernelspec": {
   "display_name": "Python 3",
   "language": "python",
   "name": "python3"
  },
  "language_info": {
   "codemirror_mode": {
    "name": "ipython",
    "version": 3
   },
   "file_extension": ".py",
   "mimetype": "text/x-python",
   "name": "python",
   "nbconvert_exporter": "python",
   "pygments_lexer": "ipython3",
   "version": "3.13.2"
  }
 },
 "nbformat": 4,
 "nbformat_minor": 2
}
